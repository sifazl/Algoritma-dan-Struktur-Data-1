{
 "cells": [
  {
   "cell_type": "code",
   "execution_count": 8,
   "metadata": {},
   "outputs": [
    {
     "name": "stdout",
     "output_type": "stream",
     "text": [
      "saya suka progamming\n",
      "saya suka progamming\n",
      "saya suka progamming\n",
      "saya suka progamming\n",
      "saya suka progamming\n"
     ]
    }
   ],
   "source": [
    "#Nama Sifa Nuzul Wulan\n",
    "print(\"saya suka progamming\")\n",
    "print(\"saya suka progamming\")\n",
    "print(\"saya suka progamming\")\n",
    "print(\"saya suka progamming\")\n",
    "print(\"saya suka progamming\")"
   ]
  },
  {
   "cell_type": "code",
   "execution_count": 9,
   "metadata": {},
   "outputs": [
    {
     "name": "stdout",
     "output_type": "stream",
     "text": [
      "615.44\n"
     ]
    }
   ],
   "source": [
    "#Nama Sifa Nuzul Wulan\n",
    "r=14\n",
    "p=3.14\n",
    "l=p*r*r\n",
    "print (l)"
   ]
  },
  {
   "cell_type": "code",
   "execution_count": 15,
   "metadata": {},
   "outputs": [
    {
     "name": "stdout",
     "output_type": "stream",
     "text": [
      "saya Sifa Nuzul Wulan, saya membuat program menghitung balok\n",
      "panjang= 5\n",
      "lebar= 7\n",
      "tinggi= 10\n",
      "sehingga volume balok = 350\n"
     ]
    }
   ],
   "source": [
    "#Nama Sifa Nuzul Wulan\n",
    "print (\"saya Sifa Nuzul Wulan, saya membuat program menghitung balok\")\n",
    "p=5\n",
    "l=7\n",
    "t=10\n",
    "v=p*l*t\n",
    "print (\"panjang=\", p)\n",
    "print (\"lebar=\", l)\n",
    "print (\"tinggi=\", t)\n",
    "print(\"sehingga volume balok =\",v)"
   ]
  },
  {
   "cell_type": "code",
   "execution_count": null,
   "metadata": {},
   "outputs": [],
   "source": []
  }
 ],
 "metadata": {
  "kernelspec": {
   "display_name": "Python 3",
   "language": "python",
   "name": "python3"
  },
  "language_info": {
   "codemirror_mode": {
    "name": "ipython",
    "version": 3
   },
   "file_extension": ".py",
   "mimetype": "text/x-python",
   "name": "python",
   "nbconvert_exporter": "python",
   "pygments_lexer": "ipython3",
   "version": "3.8.3"
  }
 },
 "nbformat": 4,
 "nbformat_minor": 4
}
