{
 "cells": [
  {
   "cell_type": "code",
   "execution_count": 1,
   "metadata": {},
   "outputs": [
    {
     "name": "stdout",
     "output_type": "stream",
     "text": [
      "Saya tidak akan mengulangi perbuatan itu lagi 0\n",
      "Saya tidak akan mengulangi perbuatan itu lagi 1\n",
      "Saya tidak akan mengulangi perbuatan itu lagi 2\n",
      "Saya tidak akan mengulangi perbuatan itu lagi 3\n",
      "Saya tidak akan mengulangi perbuatan itu lagi 4\n",
      "Saya tidak akan mengulangi perbuatan itu lagi 5\n",
      "Saya tidak akan mengulangi perbuatan itu lagi 6\n",
      "Saya tidak akan mengulangi perbuatan itu lagi 7\n",
      "Saya tidak akan mengulangi perbuatan itu lagi 8\n",
      "Saya tidak akan mengulangi perbuatan itu lagi 9\n",
      "Saya tidak akan mengulangi perbuatan itu lagi 10\n",
      "Saya tidak akan mengulangi perbuatan itu lagi 11\n",
      "Saya tidak akan mengulangi perbuatan itu lagi 12\n",
      "Saya tidak akan mengulangi perbuatan itu lagi 13\n",
      "Saya tidak akan mengulangi perbuatan itu lagi 14\n",
      "Saya tidak akan mengulangi perbuatan itu lagi 15\n",
      "Saya tidak akan mengulangi perbuatan itu lagi 16\n",
      "Saya tidak akan mengulangi perbuatan itu lagi 17\n",
      "Saya tidak akan mengulangi perbuatan itu lagi 18\n",
      "Saya tidak akan mengulangi perbuatan itu lagi 19\n",
      "Saya tidak akan mengulangi perbuatan itu lagi 20\n",
      "Saya tidak akan mengulangi perbuatan itu lagi 21\n",
      "Saya tidak akan mengulangi perbuatan itu lagi 22\n",
      "Saya tidak akan mengulangi perbuatan itu lagi 23\n",
      "Saya tidak akan mengulangi perbuatan itu lagi 24\n"
     ]
    }
   ],
   "source": [
    "#Sifa Nuzul Wulan\n",
    "\n",
    "l = 25\n",
    "\n",
    "for i in range (l):\n",
    "    print (\"Saya tidak akan mengulangi perbuatan itu lagi\", i)"
   ]
  },
  {
   "cell_type": "code",
   "execution_count": 2,
   "metadata": {},
   "outputs": [
    {
     "name": "stdout",
     "output_type": "stream",
     "text": [
      "15 True\n",
      "14 True\n",
      "13 True\n",
      "12 True\n",
      "11 True\n",
      "10 False\n",
      "9 False\n",
      "8 False\n",
      "7 False\n",
      "6 False\n",
      "5 False\n",
      "4 False\n",
      "3 False\n",
      "2 False\n",
      "1 False\n"
     ]
    }
   ],
   "source": [
    "#Sifa Nuzul Wulan\n",
    "\n",
    "x = 15\n",
    "for i in range(x):\n",
    "    print(x, x>10)\n",
    "    x = x - 1"
   ]
  },
  {
   "cell_type": "code",
   "execution_count": 4,
   "metadata": {},
   "outputs": [
    {
     "name": "stdout",
     "output_type": "stream",
     "text": [
      "Masukkan pilihan : 1.Ganjil | 2.Genap :2\n",
      "0\n",
      "1\n",
      "2\n",
      "3\n",
      "4\n",
      "5\n",
      "6\n",
      "7\n",
      "8\n",
      "9\n"
     ]
    }
   ],
   "source": [
    "#Sifa Nuzul Wulan\n",
    "\n",
    "program_perulangan = int(input(\"Masukkan pilihan : 1.Ganjil | 2.Genap :\"))\n",
    "\n",
    "if program_perulangan == 1:\n",
    "    for x in range (10):\n",
    "        if x % 2 == 1:\n",
    "            print(x)\n",
    "            \n",
    "else:\n",
    "    for x in range (10):\n",
    "        if x % 1== 0:\n",
    "            print (x)"
   ]
  },
  {
   "cell_type": "code",
   "execution_count": 2,
   "metadata": {},
   "outputs": [
    {
     "name": "stdout",
     "output_type": "stream",
     "text": [
      "Masukkan Bilangan : 7\n",
      "7 Adahalh Bilangan Genap False\n",
      "7 Adalah Bilangan Ganjil True\n"
     ]
    }
   ],
   "source": [
    "#Sifa Nuzul Wulan\n",
    "\n",
    "bilangan = int(input(\"Masukkan Bilangan : \"))\n",
    "def genap():\n",
    "    bilangan_genap = bilangan %2 == 0\n",
    "    return bilangan_genap \n",
    "def ganjil():\n",
    "    bilangan_ganjil = bilangan %2 != 0\n",
    "    return bilangan_ganjil\n",
    "\n",
    "print(bilangan, \"Adahalh Bilangan Genap\", genap())\n",
    "print(bilangan, \"Adalah Bilangan Ganjil\", ganjil())"
   ]
  },
  {
   "cell_type": "code",
   "execution_count": null,
   "metadata": {},
   "outputs": [],
   "source": []
  }
 ],
 "metadata": {
  "kernelspec": {
   "display_name": "Python 3",
   "language": "python",
   "name": "python3"
  },
  "language_info": {
   "codemirror_mode": {
    "name": "ipython",
    "version": 3
   },
   "file_extension": ".py",
   "mimetype": "text/x-python",
   "name": "python",
   "nbconvert_exporter": "python",
   "pygments_lexer": "ipython3",
   "version": "3.8.3"
  }
 },
 "nbformat": 4,
 "nbformat_minor": 4
}
