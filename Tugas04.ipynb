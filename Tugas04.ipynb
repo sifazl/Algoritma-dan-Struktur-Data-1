{
 "cells": [
  {
   "cell_type": "code",
   "execution_count": 2,
   "metadata": {},
   "outputs": [
    {
     "name": "stdout",
     "output_type": "stream",
     "text": [
      "hasil 10 + 20 = 30\n",
      "hasil 10 - 20 = -10\n",
      "hasil 10 * 20 = 200\n",
      "hasil 10 / 20 = 0.5\n",
      "hasil 10 % 20 = 10\n",
      "hasil 10 ** 20 = 100000000000000000000\n"
     ]
    }
   ],
   "source": [
    "#Nama Sifa Nuzul Wulan\n",
    "a = 10\n",
    "b = 20\n",
    "\n",
    "c = a + b\n",
    "print (\"hasil\", a, \"+\", b, \"=\", c)\n",
    "\n",
    "d = a - b \n",
    "print (\"hasil\", a, \"-\", b,\"=\", d)\n",
    "\n",
    "e = a * b\n",
    "print (\"hasil\", a, \"*\", b,\"=\",e)\n",
    "\n",
    "f = a / b\n",
    "print (\"hasil\", a, \"/\", b,\"=\", f)\n",
    "\n",
    "g = a % b\n",
    "print (\"hasil\", a,\"%\", b,\"=\", g)\n",
    "\n",
    "h = a ** b\n",
    "print (\"hasil\", a,\"**\", b,\"=\", h)"
   ]
  },
  {
   "cell_type": "code",
   "execution_count": 3,
   "metadata": {},
   "outputs": [
    {
     "name": "stdout",
     "output_type": "stream",
     "text": [
      "30\n",
      "60\n",
      "30\n",
      "900\n",
      "30.0\n",
      "0.0\n",
      "0.0\n"
     ]
    }
   ],
   "source": [
    "#Nama Sifa Nuzul Wulan\n",
    "a = 30\n",
    "print (a)\n",
    "\n",
    "a += 30\n",
    "print (a)\n",
    "\n",
    "a -= 30\n",
    "print (a)\n",
    "\n",
    "a *= 30\n",
    "print (a)\n",
    "\n",
    "a /= 30\n",
    "print (a)\n",
    "\n",
    "a %= 30\n",
    "print (a)\n",
    "\n",
    "a **= 30\n",
    "print (a)"
   ]
  },
  {
   "cell_type": "code",
   "execution_count": 5,
   "metadata": {},
   "outputs": [
    {
     "name": "stdout",
     "output_type": "stream",
     "text": [
      "Apakah a lebih besar b : False\n",
      "Apakah a lebih kecil dari b : True\n",
      "Apakah a sama dengan b : False\n",
      "Apakah a tidak sama dengan b : True\n",
      "Apakah a lebih besar sama dengan b : True\n",
      "Apakah a lebih kecil sama dengan b : False\n"
     ]
    }
   ],
   "source": [
    "#Nama Sifa Nuzul Wulan\n",
    "a = 20\n",
    "b = 10\n",
    "\n",
    "#Apakah a lebih besar b \n",
    "c = a < b\n",
    "print (\"Apakah a lebih besar b :\", c)\n",
    "\n",
    "#Apakah a lebih kecil dari b\n",
    "d = a > b\n",
    "print (\"Apakah a lebih kecil dari b :\", d)\n",
    "\n",
    "#Apakah a sama dengan b \n",
    "e = a == b\n",
    "print (\"Apakah a sama dengan b :\", e)\n",
    "\n",
    "#Apakah a tidak sama dengan b\n",
    "f = a != b\n",
    "print (\"Apakah a tidak sama dengan b :\", f)\n",
    "\n",
    "#Apakah a lebih besar sama dengan b\n",
    "g = a >= b\n",
    "print (\"Apakah a lebih besar sama dengan b :\", g)\n",
    "\n",
    "#Apakah a lebih kecil sama dengan b\n",
    "h = a <= b\n",
    "print (\"Apakah a lebih kecil sama dengan b :\", h)\n"
   ]
  },
  {
   "cell_type": "code",
   "execution_count": 20,
   "metadata": {},
   "outputs": [
    {
     "name": "stdout",
     "output_type": "stream",
     "text": [
      "False\n",
      "True\n",
      "True\n"
     ]
    }
   ],
   "source": [
    "#Nama Sifa Nuzul Wulan\n",
    "a = True\n",
    "b = False\n",
    "\n",
    "#Logika AND\n",
    "c = a and b\n",
    "print (c)\n",
    "\n",
    "#Logika OR\n",
    "d = a or b\n",
    "print (d)\n",
    "\n",
    "#Logika NOT\n",
    "e = not a < b\n",
    "print (e)"
   ]
  },
  {
   "cell_type": "code",
   "execution_count": 2,
   "metadata": {},
   "outputs": [
    {
     "name": "stdout",
     "output_type": "stream",
     "text": [
      "Nama bayi Agus\n",
      "Berat bayi dalam Kg adalah 3\n",
      "berat badan dalam ons adalah 30 ons\n",
      "berat bayi 1 bulan ke depan adalah 60 ons\n"
     ]
    }
   ],
   "source": [
    "#Nama Sifa Nuzul Wulan\n",
    "nama = input (\"Nama bayi \")\n",
    "berat = int (input (\"Berat bayi dalam Kg adalah \"))\n",
    "\n",
    "berat_ons = berat * 10\n",
    "berat_1bln = berat_ons + 30\n",
    "print (\"berat badan dalam ons adalah\", berat_ons, \"ons\")\n",
    "print (\"berat bayi 1 bulan ke depan adalah\", berat_1bln, \"ons\")"
   ]
  }
 ],
 "metadata": {
  "kernelspec": {
   "display_name": "Python 3",
   "language": "python",
   "name": "python3"
  },
  "language_info": {
   "codemirror_mode": {
    "name": "ipython",
    "version": 3
   },
   "file_extension": ".py",
   "mimetype": "text/x-python",
   "name": "python",
   "nbconvert_exporter": "python",
   "pygments_lexer": "ipython3",
   "version": "3.8.3"
  }
 },
 "nbformat": 4,
 "nbformat_minor": 4
}
